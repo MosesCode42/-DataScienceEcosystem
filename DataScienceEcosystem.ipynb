{
 "cells": [
  {
   "cell_type": "markdown",
   "id": "1f02b365",
   "metadata": {},
   "source": [
    "# Data Science Tools and Ecosystem"
   ]
  },
  {
   "cell_type": "markdown",
   "id": "632c0dc6",
   "metadata": {},
   "source": [
    "In this notebook, Data Science Tools and Ecosystem are summarized"
   ]
  },
  {
   "cell_type": "markdown",
   "id": "19692a2b",
   "metadata": {},
   "source": [
    "**Objectives:**\n",
    "\n",
    "* List popular languages for Data Science\n",
    "\n",
    "* List popular libraries used by Data Scientists \n",
    "\n",
    "* List Data Science Tools used by Data Scientists\n",
    "\n",
    "* List examples of evaluating arithmetic expressions in Python"
   ]
  },
  {
   "cell_type": "markdown",
   "id": "4a84f6dc",
   "metadata": {},
   "source": [
    "Some of the popular languages that Data Scientists use are:\n",
    "\n",
    "1.Python\n",
    "\n",
    "2.R\n",
    "\n",
    "3.SQL\n",
    "\n",
    "4.Java\n",
    "\n",
    "5.Julia"
   ]
  },
  {
   "cell_type": "markdown",
   "id": "351fdae9",
   "metadata": {},
   "source": [
    "Some of the commonly used libraries used by Data Scientists include:\n",
    "\n",
    "1.NumPy (Numerical Python)\n",
    "\n",
    "2.Pandas\n",
    "\n",
    "3.Matplotlib\n",
    "\n",
    "4.Seaborn\n",
    "\n",
    "5.Scikit-learn\n",
    "\n",
    "6.TensorFlow\n",
    "\n",
    "7.PyTorch"
   ]
  },
  {
   "cell_type": "markdown",
   "id": "f409b7e2",
   "metadata": {},
   "source": [
    "Data Science Tools\n",
    "--\n",
    "1.Jupyter Notebook\n",
    "\n",
    "2.RStudio\n",
    "\n",
    "3.VS Code\n",
    "\n"
   ]
  },
  {
   "cell_type": "markdown",
   "id": "3278c963",
   "metadata": {},
   "source": [
    "### Below are a few examples of evaluating arithmetic expressions in Python"
   ]
  },
  {
   "cell_type": "markdown",
   "id": "b215cf93",
   "metadata": {},
   "source": [
    "Addition\t+\tAdds two values together\n",
    "\n",
    "Subtraction\t-\tSubtracts one value from another\n",
    "\n",
    "Multiplication\t*\tMultiplies two values together\n",
    "\n",
    "Division\t/\tDivides one value by another (returns a floating-point number)\n",
    "\n",
    "Floor Division\t//\tDivides and rounds down to the nearest whole number\n",
    "\n",
    "Modulus\t%\tReturns the remainder after division\n",
    "\n",
    "Exponentiation\t**\tRaises one number to the power of another"
   ]
  },
  {
   "cell_type": "code",
   "execution_count": 2,
   "id": "11cf232c",
   "metadata": {},
   "outputs": [
    {
     "data": {
      "text/plain": [
       "17"
      ]
     },
     "execution_count": 2,
     "metadata": {},
     "output_type": "execute_result"
    }
   ],
   "source": [
    "(3*4)+5 #This a simple arithmetic expression to mutiply then add integers"
   ]
  },
  {
   "cell_type": "code",
   "execution_count": 5,
   "id": "75b07ae3",
   "metadata": {},
   "outputs": [],
   "source": [
    "# This will convert 200 minutes to hours by diving by 60\n",
    "minutes = 200\n",
    "hours = minutes / 60"
   ]
  },
  {
   "cell_type": "code",
   "execution_count": 6,
   "id": "39821217",
   "metadata": {},
   "outputs": [
    {
     "data": {
      "text/plain": [
       "3.3333333333333335"
      ]
     },
     "execution_count": 6,
     "metadata": {},
     "output_type": "execute_result"
    }
   ],
   "source": [
    "hours"
   ]
  },
  {
   "cell_type": "markdown",
   "id": "14b8e576",
   "metadata": {},
   "source": [
    "## Author  "
   ]
  },
  {
   "cell_type": "markdown",
   "id": "45f02645",
   "metadata": {},
   "source": [
    "Moses Omondi Owino"
   ]
  },
  {
   "cell_type": "code",
   "execution_count": null,
   "id": "698ed487",
   "metadata": {},
   "outputs": [],
   "source": []
  }
 ],
 "metadata": {
  "kernelspec": {
   "display_name": "Python 3 (ipykernel)",
   "language": "python",
   "name": "python3"
  },
  "language_info": {
   "codemirror_mode": {
    "name": "ipython",
    "version": 3
   },
   "file_extension": ".py",
   "mimetype": "text/x-python",
   "name": "python",
   "nbconvert_exporter": "python",
   "pygments_lexer": "ipython3",
   "version": "3.11.4"
  }
 },
 "nbformat": 4,
 "nbformat_minor": 5
}
